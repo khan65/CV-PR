{
  "nbformat": 4,
  "nbformat_minor": 0,
  "metadata": {
    "colab": {
      "name": "cvpr_mid_assignment2.ipynb",
      "provenance": [],
      "collapsed_sections": [],
      "authorship_tag": "ABX9TyMQL3sIOl8CzdHZ+JAJW0Ml"
    },
    "kernelspec": {
      "name": "python3",
      "display_name": "Python 3"
    },
    "language_info": {
      "name": "python"
    }
  },
  "cells": [
    {
      "cell_type": "code",
      "metadata": {
        "colab": {
          "base_uri": "https://localhost:8080/",
          "height": 135
        },
        "id": "8pxWiT49rdEh",
        "outputId": "57d13753-1e46-4802-ef8b-38acdbc63e61"
      },
      "source": [
        "import os\n",
        "import cv2\n",
        "import numpy as np\n",
        "from time import time\n",
        "from tensorflow.keras import utils\n",
        "from tensorflow.keras.optimizers import Adam\n",
        "from tensorflow.keras.models import Sequential\n",
        "from tensorflow.keras.layers import Dense, Flatten\n",
        "from tensorflow.keras.applications import VGG16\n",
        "from sklearn.model_selection import train_test_split\n",
        "import matplotlib.pyplot as plt\n",
        "%matplotlib inline\n",
        "train_dir = '../input/asl-alphabet/asl_alphabet_train/asl_alphabet_train'\n",
        "test_dir = '../input/asl-alphabet/asl_alphabet_test/asl_alphabet_test'\n",
        "classes = ['A', 'B', 'C'']\n",
        "plt.figure(figsize=(11, 11))\n",
        "for i in range (0,3):\n",
        "    plt.subplot(7,7,i+1)\n",
        "    plt.xticks([])\n",
        "    plt.yticks([])\n",
        "    path = train_dir + \"/{0}/{0}1.jpg\".format(classes[i])\n",
        "    img = plt.imread(path)\n",
        "    plt.imshow(img)\n",
        "    plt.xlabel(classes[i])"
      ],
      "execution_count": 3,
      "outputs": [
        {
          "output_type": "error",
          "ename": "SyntaxError",
          "evalue": "ignored",
          "traceback": [
            "\u001b[0;36m  File \u001b[0;32m\"<ipython-input-3-b4218c8ba309>\"\u001b[0;36m, line \u001b[0;32m15\u001b[0m\n\u001b[0;31m    classes = ['A', 'B', 'C'']\u001b[0m\n\u001b[0m                              ^\u001b[0m\n\u001b[0;31mSyntaxError\u001b[0m\u001b[0;31m:\u001b[0m EOL while scanning string literal\n"
          ]
        }
      ]
    }
  ]
}